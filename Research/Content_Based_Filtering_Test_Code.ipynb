{
 "cells": [
  {
   "cell_type": "code",
   "execution_count": 133,
   "metadata": {
    "collapsed": true
   },
   "outputs": [],
   "source": [
    "import math\n",
    "import pymysql\n",
    "import pandas as pd\n",
    "import pprint\n",
    "\n",
    "\n",
    "import pandas as pd\n",
    "import numpy as np\n",
    "import matplotlib.pyplot as plt\n",
    "import seaborn as sns\n",
    "%matplotlib inline\n",
    "\n",
    "from textblob import TextBlob\n",
    "from IPython.display import Image\n",
    "from collections import defaultdict\n",
    "\n",
    "from sklearn.ensemble import RandomForestClassifier\n",
    "from sklearn.model_selection import train_test_split, GridSearchCV\n",
    "from sklearn.metrics import confusion_matrix, classification_report\n",
    "from sklearn.feature_extraction.text import CountVectorizer\n",
    "from sklearn.decomposition import LatentDirichletAllocation\n",
    "from sklearn.feature_extraction.text import TfidfVectorizer\n",
    "from sklearn.decomposition import TruncatedSVD\n",
    "from sklearn.linear_model import LogisticRegression\n",
    "from sklearn.pipeline import Pipeline\n",
    "\n",
    "from scipy import sparse\n",
    "from sklearn.metrics import pairwise_distances\n",
    "from sklearn.metrics.pairwise import cosine_similarity"
   ]
  },
  {
   "cell_type": "code",
   "execution_count": 134,
   "metadata": {
    "collapsed": true
   },
   "outputs": [],
   "source": [
    "content = pd.read_csv('Content_Filtering.csv')"
   ]
  },
  {
   "cell_type": "code",
   "execution_count": 135,
   "metadata": {},
   "outputs": [],
   "source": [
    "content.set_index('Business', inplace=True)"
   ]
  },
  {
   "cell_type": "code",
   "execution_count": 136,
   "metadata": {},
   "outputs": [
    {
     "data": {
      "text/html": [
       "<div>\n",
       "<style scoped>\n",
       "    .dataframe tbody tr th:only-of-type {\n",
       "        vertical-align: middle;\n",
       "    }\n",
       "\n",
       "    .dataframe tbody tr th {\n",
       "        vertical-align: top;\n",
       "    }\n",
       "\n",
       "    .dataframe thead th {\n",
       "        text-align: right;\n",
       "    }\n",
       "</style>\n",
       "<table border=\"1\" class=\"dataframe\">\n",
       "  <thead>\n",
       "    <tr style=\"text-align: right;\">\n",
       "      <th></th>\n",
       "      <th>Parking</th>\n",
       "      <th>Lighting</th>\n",
       "      <th>Happy Hour</th>\n",
       "      <th>Parties</th>\n",
       "      <th>Music</th>\n",
       "      <th>Ambience</th>\n",
       "    </tr>\n",
       "    <tr>\n",
       "      <th>Business</th>\n",
       "      <th></th>\n",
       "      <th></th>\n",
       "      <th></th>\n",
       "      <th></th>\n",
       "      <th></th>\n",
       "      <th></th>\n",
       "    </tr>\n",
       "  </thead>\n",
       "  <tbody>\n",
       "    <tr>\n",
       "      <th>Little_Donkey</th>\n",
       "      <td>0</td>\n",
       "      <td>1</td>\n",
       "      <td>1</td>\n",
       "      <td>1</td>\n",
       "      <td>0</td>\n",
       "      <td>1</td>\n",
       "    </tr>\n",
       "    <tr>\n",
       "      <th>Caf__Nero</th>\n",
       "      <td>1</td>\n",
       "      <td>1</td>\n",
       "      <td>0</td>\n",
       "      <td>1</td>\n",
       "      <td>0</td>\n",
       "      <td>0</td>\n",
       "    </tr>\n",
       "    <tr>\n",
       "      <th>India_Pavilion</th>\n",
       "      <td>0</td>\n",
       "      <td>1</td>\n",
       "      <td>0</td>\n",
       "      <td>1</td>\n",
       "      <td>0</td>\n",
       "      <td>1</td>\n",
       "    </tr>\n",
       "    <tr>\n",
       "      <th>Desi_Dhaba</th>\n",
       "      <td>1</td>\n",
       "      <td>0</td>\n",
       "      <td>1</td>\n",
       "      <td>0</td>\n",
       "      <td>1</td>\n",
       "      <td>0</td>\n",
       "    </tr>\n",
       "    <tr>\n",
       "      <th>Thai_Sensation</th>\n",
       "      <td>1</td>\n",
       "      <td>0</td>\n",
       "      <td>1</td>\n",
       "      <td>0</td>\n",
       "      <td>1</td>\n",
       "      <td>1</td>\n",
       "    </tr>\n",
       "    <tr>\n",
       "      <th>Dumpling_House</th>\n",
       "      <td>0</td>\n",
       "      <td>1</td>\n",
       "      <td>0</td>\n",
       "      <td>0</td>\n",
       "      <td>1</td>\n",
       "      <td>0</td>\n",
       "    </tr>\n",
       "    <tr>\n",
       "      <th>Caf__Luna</th>\n",
       "      <td>0</td>\n",
       "      <td>1</td>\n",
       "      <td>1</td>\n",
       "      <td>1</td>\n",
       "      <td>0</td>\n",
       "      <td>1</td>\n",
       "    </tr>\n",
       "  </tbody>\n",
       "</table>\n",
       "</div>"
      ],
      "text/plain": [
       "                Parking  Lighting   Happy Hour   Parties   Music  Ambience\n",
       "Business                                                                  \n",
       "Little_Donkey         0          1            1         1      0         1\n",
       "Caf__Nero             1          1            0         1      0         0\n",
       "India_Pavilion        0          1            0         1      0         1\n",
       "Desi_Dhaba            1          0            1         0      1         0\n",
       "Thai_Sensation        1          0            1         0      1         1\n",
       "Dumpling_House        0          1            0         0      1         0\n",
       "Caf__Luna             0          1            1         1      0         1"
      ]
     },
     "execution_count": 136,
     "metadata": {},
     "output_type": "execute_result"
    }
   ],
   "source": [
    "content"
   ]
  },
  {
   "cell_type": "code",
   "execution_count": 137,
   "metadata": {},
   "outputs": [],
   "source": [
    "restaurants_df = pd.read_csv('Sample_Restaurants.csv', index_col='Users')\n",
    "restaurants_df.fillna(value=0, inplace=True)"
   ]
  },
  {
   "cell_type": "code",
   "execution_count": 138,
   "metadata": {},
   "outputs": [
    {
     "data": {
      "text/html": [
       "<div>\n",
       "<style scoped>\n",
       "    .dataframe tbody tr th:only-of-type {\n",
       "        vertical-align: middle;\n",
       "    }\n",
       "\n",
       "    .dataframe tbody tr th {\n",
       "        vertical-align: top;\n",
       "    }\n",
       "\n",
       "    .dataframe thead th {\n",
       "        text-align: right;\n",
       "    }\n",
       "</style>\n",
       "<table border=\"1\" class=\"dataframe\">\n",
       "  <thead>\n",
       "    <tr style=\"text-align: right;\">\n",
       "      <th></th>\n",
       "      <th>Little_Donkey</th>\n",
       "      <th>Caf__Nero</th>\n",
       "      <th>India_Pavilion</th>\n",
       "      <th>Desi_Dhaba</th>\n",
       "      <th>Thai_Sensation</th>\n",
       "      <th>Dumpling_House</th>\n",
       "      <th>Caf__Luna</th>\n",
       "    </tr>\n",
       "    <tr>\n",
       "      <th>Users</th>\n",
       "      <th></th>\n",
       "      <th></th>\n",
       "      <th></th>\n",
       "      <th></th>\n",
       "      <th></th>\n",
       "      <th></th>\n",
       "      <th></th>\n",
       "    </tr>\n",
       "  </thead>\n",
       "  <tbody>\n",
       "    <tr>\n",
       "      <th>Ajinth</th>\n",
       "      <td>4.0</td>\n",
       "      <td>0.0</td>\n",
       "      <td>5.0</td>\n",
       "      <td>0.0</td>\n",
       "      <td>3.0</td>\n",
       "      <td>0.0</td>\n",
       "      <td>2.0</td>\n",
       "    </tr>\n",
       "    <tr>\n",
       "      <th>Tess</th>\n",
       "      <td>3.0</td>\n",
       "      <td>3.0</td>\n",
       "      <td>3.0</td>\n",
       "      <td>0.0</td>\n",
       "      <td>4.0</td>\n",
       "      <td>0.0</td>\n",
       "      <td>0.0</td>\n",
       "    </tr>\n",
       "    <tr>\n",
       "      <th>Jessica</th>\n",
       "      <td>4.0</td>\n",
       "      <td>3.0</td>\n",
       "      <td>0.0</td>\n",
       "      <td>0.0</td>\n",
       "      <td>2.0</td>\n",
       "      <td>0.0</td>\n",
       "      <td>1.0</td>\n",
       "    </tr>\n",
       "    <tr>\n",
       "      <th>Mark</th>\n",
       "      <td>0.0</td>\n",
       "      <td>2.0</td>\n",
       "      <td>0.0</td>\n",
       "      <td>2.0</td>\n",
       "      <td>0.0</td>\n",
       "      <td>2.0</td>\n",
       "      <td>4.0</td>\n",
       "    </tr>\n",
       "    <tr>\n",
       "      <th>Joe</th>\n",
       "      <td>5.0</td>\n",
       "      <td>0.0</td>\n",
       "      <td>5.0</td>\n",
       "      <td>0.0</td>\n",
       "      <td>8.0</td>\n",
       "      <td>0.0</td>\n",
       "      <td>8.0</td>\n",
       "    </tr>\n",
       "  </tbody>\n",
       "</table>\n",
       "</div>"
      ],
      "text/plain": [
       "          Little_Donkey  Caf__Nero  India_Pavilion  Desi_Dhaba  \\\n",
       "Users                                                            \n",
       "Ajinth              4.0        0.0             5.0         0.0   \n",
       "Tess                3.0        3.0             3.0         0.0   \n",
       "Jessica             4.0        3.0             0.0         0.0   \n",
       "Mark                0.0        2.0             0.0         2.0   \n",
       "Joe                 5.0        0.0             5.0         0.0   \n",
       "\n",
       "          Thai_Sensation  Dumpling_House  Caf__Luna  \n",
       "Users                                                \n",
       "Ajinth               3.0             0.0        2.0  \n",
       "Tess                 4.0             0.0        0.0  \n",
       "Jessica              2.0             0.0        1.0  \n",
       "Mark                 0.0             2.0        4.0  \n",
       "Joe                  8.0             0.0        8.0  "
      ]
     },
     "execution_count": 138,
     "metadata": {},
     "output_type": "execute_result"
    }
   ],
   "source": [
    "restaurants_df.head()"
   ]
  },
  {
   "cell_type": "code",
   "execution_count": 139,
   "metadata": {
    "collapsed": true
   },
   "outputs": [],
   "source": [
    "user = 'Ajinth'"
   ]
  },
  {
   "cell_type": "markdown",
   "metadata": {},
   "source": [
    "# Helper Functions for Content Based filtering "
   ]
  },
  {
   "cell_type": "code",
   "execution_count": 188,
   "metadata": {},
   "outputs": [],
   "source": [
    "'''Function to return the list of restaurants rated by the user'''\n",
    "def user_rated_list(user):\n",
    "    user_rated=[]\n",
    "    for key, a_res in enumerate(list(restaurants_df.loc[user, :] ==0)):\n",
    "        if a_res == False:\n",
    "            user_rated.append((restaurants_df.loc[user, :] ==0).index[key])\n",
    "        else: \n",
    "            continue\n",
    "    return user_rated  \n",
    "\n",
    "\n",
    "'''Function to return the list of restaurants yet to be rated by the user'''\n",
    "def user_not_rated_list(user):\n",
    "    user_not_rated=[]\n",
    "    for key, a_res in enumerate(list(restaurants_df.loc[user, :] ==0)):\n",
    "        if a_res == True:\n",
    "            user_not_rated.append((restaurants_df.loc[user, :] ==0).index[key])\n",
    "        else: \n",
    "            continue\n",
    "    return (user_not_rated) \n",
    "\n",
    "\n",
    "'''Function to Create the Cooccurence Matrix based on the Restaurant Attributes'''\n",
    "def content_based_cooccurence_matrix_creator():\n",
    "    '''Calling the user rated function'''\n",
    "    user_rated = user_rated_list(user)\n",
    "    rest_rest_dict = {}\n",
    "    for ur in user_rated:\n",
    "        user_rated_vector = content[content.index==ur].values\n",
    "        rest_distance=[]\n",
    "        for ar in list(restaurants_df.columns): \n",
    "            all_restaurant_vector = content[content.index==ar].values\n",
    "            distance = float(pairwise_distances(user_rated_vector, all_restaurant_vector, metric='cosine'))\n",
    "            similarity = 1 - distance\n",
    "            rest_distance.append(distance)\n",
    "        rest_rest_dict[ur] = rest_distance\n",
    "    co_occurence_matrix = pd.DataFrame.from_dict(rest_rest_dict, orient='index')\n",
    "    co_occurence_matrix.columns=list(restaurants_df.columns)\n",
    "    return co_occurence_matrix\n",
    "\n",
    "\n",
    "'''Function to create dataframe of the restaurants to be rated'''\n",
    "def rest_to_rate(df):\n",
    "    restaurants_to_rate = df[user_not_rated_list(user)]\n",
    "    return restaurants_to_rate"
   ]
  },
  {
   "cell_type": "code",
   "execution_count": 189,
   "metadata": {},
   "outputs": [
    {
     "data": {
      "text/plain": [
       "['Little_Donkey', 'India_Pavilion', 'Thai_Sensation', 'Caf__Luna']"
      ]
     },
     "execution_count": 189,
     "metadata": {},
     "output_type": "execute_result"
    }
   ],
   "source": [
    "user_rated = user_rated_list(user)\n",
    "user_rated"
   ]
  },
  {
   "cell_type": "code",
   "execution_count": 190,
   "metadata": {},
   "outputs": [
    {
     "data": {
      "text/plain": [
       "['Caf__Nero', 'Desi_Dhaba', 'Dumpling_House']"
      ]
     },
     "execution_count": 190,
     "metadata": {},
     "output_type": "execute_result"
    }
   ],
   "source": [
    "user_n_rated = user_not_rated_list(user)\n",
    "user_n_rated"
   ]
  },
  {
   "cell_type": "code",
   "execution_count": 191,
   "metadata": {},
   "outputs": [
    {
     "data": {
      "text/plain": [
       "array([[0, 1, 1, 1, 0, 1]])"
      ]
     },
     "execution_count": 191,
     "metadata": {},
     "output_type": "execute_result"
    }
   ],
   "source": [
    "content[content.index=='Little_Donkey'].values"
   ]
  },
  {
   "cell_type": "code",
   "execution_count": 192,
   "metadata": {},
   "outputs": [
    {
     "data": {
      "text/plain": [
       "['Little_Donkey',\n",
       " 'Caf__Nero',\n",
       " 'India_Pavilion',\n",
       " 'Desi_Dhaba',\n",
       " 'Thai_Sensation',\n",
       " 'Dumpling_House',\n",
       " 'Caf__Luna']"
      ]
     },
     "execution_count": 192,
     "metadata": {},
     "output_type": "execute_result"
    }
   ],
   "source": [
    "list(restaurants_df.columns)"
   ]
  },
  {
   "cell_type": "code",
   "execution_count": 193,
   "metadata": {},
   "outputs": [],
   "source": [
    "res_res_df = content_based_cooccurence_matrix_creator()"
   ]
  },
  {
   "cell_type": "code",
   "execution_count": 194,
   "metadata": {},
   "outputs": [
    {
     "data": {
      "text/html": [
       "<div>\n",
       "<style scoped>\n",
       "    .dataframe tbody tr th:only-of-type {\n",
       "        vertical-align: middle;\n",
       "    }\n",
       "\n",
       "    .dataframe tbody tr th {\n",
       "        vertical-align: top;\n",
       "    }\n",
       "\n",
       "    .dataframe thead th {\n",
       "        text-align: right;\n",
       "    }\n",
       "</style>\n",
       "<table border=\"1\" class=\"dataframe\">\n",
       "  <thead>\n",
       "    <tr style=\"text-align: right;\">\n",
       "      <th></th>\n",
       "      <th>Little_Donkey</th>\n",
       "      <th>Caf__Nero</th>\n",
       "      <th>India_Pavilion</th>\n",
       "      <th>Desi_Dhaba</th>\n",
       "      <th>Thai_Sensation</th>\n",
       "      <th>Dumpling_House</th>\n",
       "      <th>Caf__Luna</th>\n",
       "    </tr>\n",
       "  </thead>\n",
       "  <tbody>\n",
       "    <tr>\n",
       "      <th>Little_Donkey</th>\n",
       "      <td>0.000000</td>\n",
       "      <td>0.422650</td>\n",
       "      <td>0.133975</td>\n",
       "      <td>0.711325</td>\n",
       "      <td>0.500000</td>\n",
       "      <td>0.646447</td>\n",
       "      <td>0.000000</td>\n",
       "    </tr>\n",
       "    <tr>\n",
       "      <th>India_Pavilion</th>\n",
       "      <td>0.133975</td>\n",
       "      <td>0.333333</td>\n",
       "      <td>0.000000</td>\n",
       "      <td>1.000000</td>\n",
       "      <td>0.711325</td>\n",
       "      <td>0.591752</td>\n",
       "      <td>0.133975</td>\n",
       "    </tr>\n",
       "    <tr>\n",
       "      <th>Thai_Sensation</th>\n",
       "      <td>0.500000</td>\n",
       "      <td>0.711325</td>\n",
       "      <td>0.711325</td>\n",
       "      <td>0.133975</td>\n",
       "      <td>0.000000</td>\n",
       "      <td>0.646447</td>\n",
       "      <td>0.500000</td>\n",
       "    </tr>\n",
       "    <tr>\n",
       "      <th>Caf__Luna</th>\n",
       "      <td>0.000000</td>\n",
       "      <td>0.422650</td>\n",
       "      <td>0.133975</td>\n",
       "      <td>0.711325</td>\n",
       "      <td>0.500000</td>\n",
       "      <td>0.646447</td>\n",
       "      <td>0.000000</td>\n",
       "    </tr>\n",
       "  </tbody>\n",
       "</table>\n",
       "</div>"
      ],
      "text/plain": [
       "                Little_Donkey  Caf__Nero  India_Pavilion  Desi_Dhaba  \\\n",
       "Little_Donkey        0.000000   0.422650        0.133975    0.711325   \n",
       "India_Pavilion       0.133975   0.333333        0.000000    1.000000   \n",
       "Thai_Sensation       0.500000   0.711325        0.711325    0.133975   \n",
       "Caf__Luna            0.000000   0.422650        0.133975    0.711325   \n",
       "\n",
       "                Thai_Sensation  Dumpling_House  Caf__Luna  \n",
       "Little_Donkey         0.500000        0.646447   0.000000  \n",
       "India_Pavilion        0.711325        0.591752   0.133975  \n",
       "Thai_Sensation        0.000000        0.646447   0.500000  \n",
       "Caf__Luna             0.500000        0.646447   0.000000  "
      ]
     },
     "execution_count": 194,
     "metadata": {},
     "output_type": "execute_result"
    }
   ],
   "source": [
    "res_res_df"
   ]
  },
  {
   "cell_type": "code",
   "execution_count": 195,
   "metadata": {},
   "outputs": [
    {
     "data": {
      "text/html": [
       "<div>\n",
       "<style scoped>\n",
       "    .dataframe tbody tr th:only-of-type {\n",
       "        vertical-align: middle;\n",
       "    }\n",
       "\n",
       "    .dataframe tbody tr th {\n",
       "        vertical-align: top;\n",
       "    }\n",
       "\n",
       "    .dataframe thead th {\n",
       "        text-align: right;\n",
       "    }\n",
       "</style>\n",
       "<table border=\"1\" class=\"dataframe\">\n",
       "  <thead>\n",
       "    <tr style=\"text-align: right;\">\n",
       "      <th></th>\n",
       "      <th>Caf__Nero</th>\n",
       "      <th>Desi_Dhaba</th>\n",
       "      <th>Dumpling_House</th>\n",
       "    </tr>\n",
       "  </thead>\n",
       "  <tbody>\n",
       "    <tr>\n",
       "      <th>Little_Donkey</th>\n",
       "      <td>0.422650</td>\n",
       "      <td>0.711325</td>\n",
       "      <td>0.646447</td>\n",
       "    </tr>\n",
       "    <tr>\n",
       "      <th>India_Pavilion</th>\n",
       "      <td>0.333333</td>\n",
       "      <td>1.000000</td>\n",
       "      <td>0.591752</td>\n",
       "    </tr>\n",
       "    <tr>\n",
       "      <th>Thai_Sensation</th>\n",
       "      <td>0.711325</td>\n",
       "      <td>0.133975</td>\n",
       "      <td>0.646447</td>\n",
       "    </tr>\n",
       "    <tr>\n",
       "      <th>Caf__Luna</th>\n",
       "      <td>0.422650</td>\n",
       "      <td>0.711325</td>\n",
       "      <td>0.646447</td>\n",
       "    </tr>\n",
       "  </tbody>\n",
       "</table>\n",
       "</div>"
      ],
      "text/plain": [
       "                Caf__Nero  Desi_Dhaba  Dumpling_House\n",
       "Little_Donkey    0.422650    0.711325        0.646447\n",
       "India_Pavilion   0.333333    1.000000        0.591752\n",
       "Thai_Sensation   0.711325    0.133975        0.646447\n",
       "Caf__Luna        0.422650    0.711325        0.646447"
      ]
     },
     "execution_count": 195,
     "metadata": {},
     "output_type": "execute_result"
    }
   ],
   "source": [
    "restaurants_to_rate = rest_to_rate(res_res_df)\n",
    "restaurants_to_rate"
   ]
  },
  {
   "cell_type": "code",
   "execution_count": 196,
   "metadata": {},
   "outputs": [
    {
     "data": {
      "text/plain": [
       "['Little_Donkey', 'India_Pavilion', 'Thai_Sensation', 'Caf__Luna']"
      ]
     },
     "execution_count": 196,
     "metadata": {},
     "output_type": "execute_result"
    }
   ],
   "source": [
    "user_rated"
   ]
  },
  {
   "cell_type": "code",
   "execution_count": 169,
   "metadata": {},
   "outputs": [],
   "source": [
    "'''Bugs Fixed in the main dataset run\n",
    "\n",
    "\n",
    "''' \n",
    "\n",
    "'''Content Based Filtering Function to Make Predictions'''\n",
    "\n",
    "def content_based_rating_predictor():\n",
    "    \n",
    "    predicted_rating_dict = {}\n",
    "    \n",
    "    res_res_df = content_based_cooccurence_matrix_creator()\n",
    "    restaurants_to_rate = rest_to_rate(res_res_df)\n",
    "    \n",
    "    for not_rated in restaurants_to_rate.columns: \n",
    "        column_df = pd.DataFrame(restaurants_to_rate[not_rated].sort_values(ascending=False))\n",
    "        predicted_rating = []\n",
    "        top_sim_list = []\n",
    "        if column_df.shape[0] == 1: \n",
    "            top_sim = column_df[not_rated]            \n",
    "            top_sim_list.append(top_sim)\n",
    "\n",
    "            given_rr = column_df[not_rated].index\n",
    "            \n",
    "            given_rank_df = pd.DataFrame(restaurants_df.loc[user, :]) # While converting this to function the name should be an argument to the function\n",
    "            given_rank = float((given_rank_df.loc[given_rr,:]).get_values())\n",
    "\n",
    "            adjusted_predicted_rating = float(given_rank*top_sim)\n",
    "            predicted_rating_dict[not_rated] = adjusted_predicted_rating\n",
    "             \n",
    "        else: \n",
    "            for top_n in range(2):   \n",
    "\n",
    "                top_sim = column_df[not_rated][top_n]\n",
    "                \n",
    "                '''Added for bug fix'''\n",
    "                if top_sim == 0: \n",
    "                    continue \n",
    "                        \n",
    "                else:\n",
    "                    top_sim_list.append(top_sim)\n",
    "\n",
    "                    given_rr = column_df[not_rated].index[top_n]\n",
    "\n",
    "                    given_rank_df = pd.DataFrame(restaurants_df.loc[user, :]) # While converting this to function the name should be an argument to the function\n",
    "                    given_rank = given_rank_df.loc[given_rr,:]\n",
    "\n",
    "                    predicted_rating_item = float(given_rank*top_sim)\n",
    "                    predicted_rating.append(predicted_rating_item)\n",
    "            \n",
    "            if len(top_sim_list) == 1: \n",
    "                predicted_rating_dict[not_rated] = predicted_rating_item\n",
    "            \n",
    "            else: \n",
    "\n",
    "                total_sim_weight = sum(top_sim_list)\n",
    "                \n",
    "                if total_sim_weight == 0: \n",
    "                    predicted_rating_dict[not_rated] = 0 \n",
    "                else:\n",
    "                    adjusted_predicted_rating = (sum(predicted_rating))/total_sim_weight\n",
    "                    predicted_rating_dict[not_rated] = adjusted_predicted_rating\n",
    "        \n",
    "    '''Creating the Dataframe in this step'''\n",
    "    \n",
    "    predicted_df = pd.DataFrame.from_dict(predicted_rating_dict, orient='index')\n",
    "    predicted_df.fillna(0, inplace=True)\n",
    "    predicted_df.columns=[user]\n",
    "    predicted_df.sort_values([user], ascending=False, inplace=True)\n",
    "    return predicted_df\n"
   ]
  },
  {
   "cell_type": "code",
   "execution_count": 171,
   "metadata": {},
   "outputs": [
    {
     "data": {
      "text/html": [
       "<div>\n",
       "<style scoped>\n",
       "    .dataframe tbody tr th:only-of-type {\n",
       "        vertical-align: middle;\n",
       "    }\n",
       "\n",
       "    .dataframe tbody tr th {\n",
       "        vertical-align: top;\n",
       "    }\n",
       "\n",
       "    .dataframe thead th {\n",
       "        text-align: right;\n",
       "    }\n",
       "</style>\n",
       "<table border=\"1\" class=\"dataframe\">\n",
       "  <thead>\n",
       "    <tr style=\"text-align: right;\">\n",
       "      <th></th>\n",
       "      <th>Ajinth</th>\n",
       "    </tr>\n",
       "  </thead>\n",
       "  <tbody>\n",
       "    <tr>\n",
       "      <th>Caf__Nero</th>\n",
       "      <td>3.607695</td>\n",
       "    </tr>\n",
       "    <tr>\n",
       "      <th>Dumpling_House</th>\n",
       "      <td>3.607695</td>\n",
       "    </tr>\n",
       "    <tr>\n",
       "      <th>Desi_Dhaba</th>\n",
       "      <td>2.750000</td>\n",
       "    </tr>\n",
       "  </tbody>\n",
       "</table>\n",
       "</div>"
      ],
      "text/plain": [
       "                  Ajinth\n",
       "Caf__Nero       3.607695\n",
       "Dumpling_House  3.607695\n",
       "Desi_Dhaba      2.750000"
      ]
     },
     "execution_count": 171,
     "metadata": {},
     "output_type": "execute_result"
    }
   ],
   "source": [
    "predicted_content_model = content_based_rating_predictor()\n",
    "predicted_content_model.head()"
   ]
  },
  {
   "cell_type": "code",
   "execution_count": null,
   "metadata": {
    "collapsed": true
   },
   "outputs": [],
   "source": []
  }
 ],
 "metadata": {
  "kernelspec": {
   "display_name": "Python 3",
   "language": "python",
   "name": "python3"
  },
  "language_info": {
   "codemirror_mode": {
    "name": "ipython",
    "version": 3
   },
   "file_extension": ".py",
   "mimetype": "text/x-python",
   "name": "python",
   "nbconvert_exporter": "python",
   "pygments_lexer": "ipython3",
   "version": "3.6.1"
  }
 },
 "nbformat": 4,
 "nbformat_minor": 2
}
